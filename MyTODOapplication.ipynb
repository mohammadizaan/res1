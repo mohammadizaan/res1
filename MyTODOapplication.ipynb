{
 "cells": [
  {
   "cell_type": "markdown",
   "metadata": {},
   "source": [
    "# TODO APLLICATION"
   ]
  },
  {
   "cell_type": "code",
   "execution_count": 5,
   "metadata": {},
   "outputs": [
    {
     "name": "stdout",
     "output_type": "stream",
     "text": [
      " Enter your routine task here: routine[]\n",
      "Loading application for your result...... Please wait!\n",
      "Still loading......\n",
      "Done!\n",
      "There are following tasks of your routine you do in a day:\n",
      "1. Break fast and University\n",
      "2. At home and lunch\n",
      "3. Tutoring and teaching at coaching\n",
      "3. At home and dinner\n",
      "4. Study and assignments\n",
      "5. Social life\n",
      "6. Sleeping\n",
      "   -xxxxxx-   \n"
     ]
    }
   ],
   "source": [
    "routine= [\" Break fast and University\"]\n",
    "routine\n",
    "routine.insert(1, \"At home and lunch\")\n",
    "routine\n",
    "routine.append(\"Tutoring and teaching at coaching\")\n",
    "routine\n",
    "routine.insert(3, \"At home and dinner\")\n",
    "routine\n",
    "routine.append(\"Study and assignments\")\n",
    "routine\n",
    "routine.insert(5, \"Social life\")\n",
    "routine\n",
    "routine.append(\"Sleeping\")\n",
    "routine\n",
    "routine[0]\n",
    "routine[1]\n",
    "routine[2]\n",
    "routine[3]\n",
    "routine[4]\n",
    "routine[5]\n",
    "routine[6]\n",
    "\n",
    "task=input(\" Enter your routine task here: \")\n",
    "if task==\"routine[0]\":\n",
    "    print(\"Your firtst task is to doing Break fast and going to University\")\n",
    "elif task==\"routine[1]\":\n",
    "    print(\"Your second task is to come at home and lunch\")\n",
    "elif task==\"routine[2]\":\n",
    "    print(\"Your third task is to going coaching and to teach and tuting students\")\n",
    "elif task==\"routine[3]\":\n",
    "    print(\"Your forth task is to come at home and dinner\")\n",
    "elif task==\"routine[4]\":\n",
    "    print(\"Your fifth task is to study and making assignments\")\n",
    "elif task==\"routine[5]\":\n",
    "    print(\"Your sixth task is to enjoy some social life\")\n",
    "elif task==\"routine[6]\":\n",
    "    print(\"Your final task is sleeping\")\n",
    "elif task== \"routine[]\":\n",
    "    print(\"Loading application for your result...... Please wait!\")\n",
    "    print(\"Still loading......\")\n",
    "    print(\"Done!\")\n",
    "    print(\"There are following tasks of your routine you do in a day:\")\n",
    "    print(\"1. Break fast and University\")\n",
    "    print(\"2. At home and lunch\")\n",
    "    print(\"3. Tutoring and teaching at coaching\")\n",
    "    print(\"3. At home and dinner\")\n",
    "    print(\"4. Study and assignments\")\n",
    "    print(\"5. Social life\")\n",
    "    print(\"6. Sleeping\")\n",
    "    print(\"   -xxxxxx-   \")    \n",
    "else:\n",
    "    print(\"Loading application for your result...... Please wait!\")\n",
    "    print(\"Still loading......\")\n",
    "    print(\"Done!\")\n",
    "    print(\"Invalid result. You entered wrong input. Nothing found.\")    \n"
   ]
  },
  {
   "cell_type": "code",
   "execution_count": null,
   "metadata": {},
   "outputs": [],
   "source": []
  }
 ],
 "metadata": {
  "kernelspec": {
   "display_name": "Python 3",
   "language": "python",
   "name": "python3"
  },
  "language_info": {
   "codemirror_mode": {
    "name": "ipython",
    "version": 3
   },
   "file_extension": ".py",
   "mimetype": "text/x-python",
   "name": "python",
   "nbconvert_exporter": "python",
   "pygments_lexer": "ipython3",
   "version": "3.7.3"
  }
 },
 "nbformat": 4,
 "nbformat_minor": 2
}
